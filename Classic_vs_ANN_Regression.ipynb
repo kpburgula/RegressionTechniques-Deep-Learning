{
 "cells": [
  {
   "cell_type": "code",
   "execution_count": null,
   "metadata": {
    "id": "q5OvbIEEu3OA"
   },
   "outputs": [],
   "source": [
    "import tensorflow as tf\n",
    "from sklearn.linear_model import SGDRegressor\n",
    "from sklearn.tree import DecisionTreeRegressor\n",
    "from sklearn.ensemble import RandomForestRegressor\n",
    "from sklearn.svm import SVR\n",
    "from sklearn import datasets\n",
    "from sklearn.metrics import mean_squared_error, mean_absolute_error, r2_score"
   ]
  },
  {
   "cell_type": "code",
   "execution_count": null,
   "metadata": {
    "id": "_wqyXE2eu-oN"
   },
   "outputs": [],
   "source": [
    "diabetes = datasets.load_diabetes()\n",
    "num_test = 30\n",
    "X_train = diabetes.data[:-num_test, :]\n",
    "y_train = diabetes.target[:-num_test]\n",
    "X_test = diabetes.data[-num_test:, :]\n",
    "y_test = diabetes.target[-num_test:]"
   ]
  },
  {
   "cell_type": "code",
   "execution_count": null,
   "metadata": {
    "id": "pxn5trpsjKEj"
   },
   "outputs": [],
   "source": [
    "def regression_report(y_test, predictions):\n",
    "    print('MSE', mean_squared_error(y_test,predictions))\n",
    "    print('MAE', mean_absolute_error(y_test,predictions))\n",
    "    print('R2', r2_score(y_test,predictions))"
   ]
  },
  {
   "cell_type": "code",
   "execution_count": null,
   "metadata": {
    "colab": {
     "base_uri": "https://localhost:8080/"
    },
    "id": "rYwklt_pvN7o",
    "outputId": "6149976b-6c05-4a47-e1d2-79e33e2c8d2b"
   },
   "outputs": [
    {
     "name": "stdout",
     "output_type": "stream",
     "text": [
      "MSE 2515.5000717386706\n",
      "MAE 43.500420631240765\n",
      "R2 0.5117628994667005\n"
     ]
    }
   ],
   "source": [
    "regressor = SGDRegressor(loss='squared_loss', penalty='l2',alpha=0.0001, learning_rate='constant', eta0=0.01, max_iter=1000)\n",
    "regressor.fit(X_train, y_train)\n",
    "\n",
    "predictions = regressor.predict(X_test)\n",
    "regression_report(y_test,predictions)"
   ]
  },
  {
   "cell_type": "code",
   "execution_count": null,
   "metadata": {
    "colab": {
     "base_uri": "https://localhost:8080/"
    },
    "id": "eTeNqLi5wCzO",
    "outputId": "82284c1e-326b-4652-d873-5ee84081cc4a"
   },
   "outputs": [
    {
     "name": "stdout",
     "output_type": "stream",
     "text": [
      "Epoch 1/100\n",
      "13/13 [==============================] - 0s 1ms/step - loss: 27644.0586\n",
      "Epoch 2/100\n",
      "13/13 [==============================] - 0s 2ms/step - loss: 23778.1504\n",
      "Epoch 3/100\n",
      "13/13 [==============================] - 0s 1ms/step - loss: 20408.9414\n",
      "Epoch 4/100\n",
      "13/13 [==============================] - 0s 1ms/step - loss: 17411.4062\n",
      "Epoch 5/100\n",
      "13/13 [==============================] - 0s 1ms/step - loss: 14900.4336\n",
      "Epoch 6/100\n",
      "13/13 [==============================] - 0s 2ms/step - loss: 12747.9502\n",
      "Epoch 7/100\n",
      "13/13 [==============================] - 0s 1ms/step - loss: 10935.8154\n",
      "Epoch 8/100\n",
      "13/13 [==============================] - 0s 1ms/step - loss: 9458.6201\n",
      "Epoch 9/100\n",
      "13/13 [==============================] - 0s 1ms/step - loss: 8237.8320\n",
      "Epoch 10/100\n",
      "13/13 [==============================] - 0s 1ms/step - loss: 7223.2007\n",
      "Epoch 11/100\n",
      "13/13 [==============================] - 0s 1ms/step - loss: 6423.2490\n",
      "Epoch 12/100\n",
      "13/13 [==============================] - 0s 1ms/step - loss: 5804.4473\n",
      "Epoch 13/100\n",
      "13/13 [==============================] - 0s 1ms/step - loss: 5279.0503\n",
      "Epoch 14/100\n",
      "13/13 [==============================] - 0s 1ms/step - loss: 4879.7188\n",
      "Epoch 15/100\n",
      "13/13 [==============================] - 0s 1ms/step - loss: 4575.0063\n",
      "Epoch 16/100\n",
      "13/13 [==============================] - 0s 1ms/step - loss: 4333.7256\n",
      "Epoch 17/100\n",
      "13/13 [==============================] - 0s 1ms/step - loss: 4146.5708\n",
      "Epoch 18/100\n",
      "13/13 [==============================] - 0s 1ms/step - loss: 4007.8591\n",
      "Epoch 19/100\n",
      "13/13 [==============================] - 0s 1ms/step - loss: 3883.1597\n",
      "Epoch 20/100\n",
      "13/13 [==============================] - 0s 2ms/step - loss: 3796.6736\n",
      "Epoch 21/100\n",
      "13/13 [==============================] - 0s 2ms/step - loss: 3721.3604\n",
      "Epoch 22/100\n",
      "13/13 [==============================] - 0s 2ms/step - loss: 3661.1414\n",
      "Epoch 23/100\n",
      "13/13 [==============================] - 0s 2ms/step - loss: 3610.2002\n",
      "Epoch 24/100\n",
      "13/13 [==============================] - 0s 1ms/step - loss: 3563.6912\n",
      "Epoch 25/100\n",
      "13/13 [==============================] - 0s 1ms/step - loss: 3526.9849\n",
      "Epoch 26/100\n",
      "13/13 [==============================] - 0s 1ms/step - loss: 3492.5535\n",
      "Epoch 27/100\n",
      "13/13 [==============================] - 0s 1ms/step - loss: 3459.3333\n",
      "Epoch 28/100\n",
      "13/13 [==============================] - 0s 1ms/step - loss: 3431.3433\n",
      "Epoch 29/100\n",
      "13/13 [==============================] - 0s 1ms/step - loss: 3406.2498\n",
      "Epoch 30/100\n",
      "13/13 [==============================] - 0s 1ms/step - loss: 3378.9875\n",
      "Epoch 31/100\n",
      "13/13 [==============================] - 0s 1ms/step - loss: 3357.7209\n",
      "Epoch 32/100\n",
      "13/13 [==============================] - 0s 1ms/step - loss: 3334.7573\n",
      "Epoch 33/100\n",
      "13/13 [==============================] - 0s 1ms/step - loss: 3313.3972\n",
      "Epoch 34/100\n",
      "13/13 [==============================] - 0s 1ms/step - loss: 3294.7192\n",
      "Epoch 35/100\n",
      "13/13 [==============================] - 0s 1ms/step - loss: 3276.6667\n",
      "Epoch 36/100\n",
      "13/13 [==============================] - 0s 1ms/step - loss: 3258.7012\n",
      "Epoch 37/100\n",
      "13/13 [==============================] - 0s 1ms/step - loss: 3241.6990\n",
      "Epoch 38/100\n",
      "13/13 [==============================] - 0s 2ms/step - loss: 3227.2366\n",
      "Epoch 39/100\n",
      "13/13 [==============================] - 0s 1ms/step - loss: 3211.8987\n",
      "Epoch 40/100\n",
      "13/13 [==============================] - 0s 1ms/step - loss: 3197.5439\n",
      "Epoch 41/100\n",
      "13/13 [==============================] - 0s 1ms/step - loss: 3184.5010\n",
      "Epoch 42/100\n",
      "13/13 [==============================] - 0s 1ms/step - loss: 3170.9321\n",
      "Epoch 43/100\n",
      "13/13 [==============================] - 0s 1ms/step - loss: 3160.9873\n",
      "Epoch 44/100\n",
      "13/13 [==============================] - 0s 1ms/step - loss: 3148.5935\n",
      "Epoch 45/100\n",
      "13/13 [==============================] - 0s 1ms/step - loss: 3138.4438\n",
      "Epoch 46/100\n",
      "13/13 [==============================] - 0s 1ms/step - loss: 3128.1675\n",
      "Epoch 47/100\n",
      "13/13 [==============================] - 0s 1ms/step - loss: 3118.9512\n",
      "Epoch 48/100\n",
      "13/13 [==============================] - 0s 1ms/step - loss: 3110.0916\n",
      "Epoch 49/100\n",
      "13/13 [==============================] - 0s 1ms/step - loss: 3100.8762\n",
      "Epoch 50/100\n",
      "13/13 [==============================] - 0s 1ms/step - loss: 3093.7046\n",
      "Epoch 51/100\n",
      "13/13 [==============================] - 0s 1ms/step - loss: 3087.7576\n",
      "Epoch 52/100\n",
      "13/13 [==============================] - 0s 1ms/step - loss: 3079.0437\n",
      "Epoch 53/100\n",
      "13/13 [==============================] - 0s 2ms/step - loss: 3071.9790\n",
      "Epoch 54/100\n",
      "13/13 [==============================] - 0s 2ms/step - loss: 3066.7034\n",
      "Epoch 55/100\n",
      "13/13 [==============================] - 0s 1ms/step - loss: 3060.5684\n",
      "Epoch 56/100\n",
      "13/13 [==============================] - 0s 1ms/step - loss: 3053.9004\n",
      "Epoch 57/100\n",
      "13/13 [==============================] - 0s 1ms/step - loss: 3050.4133\n",
      "Epoch 58/100\n",
      "13/13 [==============================] - 0s 1ms/step - loss: 3048.9529\n",
      "Epoch 59/100\n",
      "13/13 [==============================] - 0s 1ms/step - loss: 3039.0085\n",
      "Epoch 60/100\n",
      "13/13 [==============================] - 0s 1ms/step - loss: 3035.3433\n",
      "Epoch 61/100\n",
      "13/13 [==============================] - 0s 1ms/step - loss: 3031.2959\n",
      "Epoch 62/100\n",
      "13/13 [==============================] - 0s 1ms/step - loss: 3027.7913\n",
      "Epoch 63/100\n",
      "13/13 [==============================] - 0s 1ms/step - loss: 3024.0688\n",
      "Epoch 64/100\n",
      "13/13 [==============================] - 0s 2ms/step - loss: 3021.5967\n",
      "Epoch 65/100\n",
      "13/13 [==============================] - 0s 1ms/step - loss: 3017.0015\n",
      "Epoch 66/100\n",
      "13/13 [==============================] - 0s 2ms/step - loss: 3014.8967\n",
      "Epoch 67/100\n",
      "13/13 [==============================] - 0s 2ms/step - loss: 3010.7285\n",
      "Epoch 68/100\n",
      "13/13 [==============================] - 0s 2ms/step - loss: 3008.8750\n",
      "Epoch 69/100\n",
      "13/13 [==============================] - 0s 1ms/step - loss: 3006.7537\n",
      "Epoch 70/100\n",
      "13/13 [==============================] - 0s 1ms/step - loss: 3003.6399\n",
      "Epoch 71/100\n",
      "13/13 [==============================] - 0s 1ms/step - loss: 3001.4639\n",
      "Epoch 72/100\n",
      "13/13 [==============================] - 0s 1ms/step - loss: 2999.2017\n",
      "Epoch 73/100\n",
      "13/13 [==============================] - 0s 1ms/step - loss: 2997.1453\n",
      "Epoch 74/100\n",
      "13/13 [==============================] - 0s 1ms/step - loss: 2996.2336\n",
      "Epoch 75/100\n",
      "13/13 [==============================] - 0s 2ms/step - loss: 2992.9392\n",
      "Epoch 76/100\n",
      "13/13 [==============================] - 0s 1ms/step - loss: 2991.4102\n",
      "Epoch 77/100\n",
      "13/13 [==============================] - 0s 1ms/step - loss: 2989.8401\n",
      "Epoch 78/100\n",
      "13/13 [==============================] - 0s 1ms/step - loss: 2988.8777\n",
      "Epoch 79/100\n",
      "13/13 [==============================] - 0s 1ms/step - loss: 2986.9949\n",
      "Epoch 80/100\n",
      "13/13 [==============================] - 0s 1ms/step - loss: 2987.3850\n",
      "Epoch 81/100\n",
      "13/13 [==============================] - 0s 1ms/step - loss: 2987.6499\n",
      "Epoch 82/100\n",
      "13/13 [==============================] - 0s 1ms/step - loss: 2984.2222\n",
      "Epoch 83/100\n",
      "13/13 [==============================] - 0s 1ms/step - loss: 2982.1733\n",
      "Epoch 84/100\n",
      "13/13 [==============================] - 0s 1ms/step - loss: 2982.0552\n",
      "Epoch 85/100\n",
      "13/13 [==============================] - 0s 1ms/step - loss: 2979.8198\n",
      "Epoch 86/100\n",
      "13/13 [==============================] - 0s 2ms/step - loss: 2979.5264\n",
      "Epoch 87/100\n",
      "13/13 [==============================] - 0s 1ms/step - loss: 2980.5261\n",
      "Epoch 88/100\n",
      "13/13 [==============================] - 0s 2ms/step - loss: 2979.4817\n",
      "Epoch 89/100\n",
      "13/13 [==============================] - 0s 2ms/step - loss: 2976.9727\n",
      "Epoch 90/100\n",
      "13/13 [==============================] - 0s 2ms/step - loss: 2975.8147\n",
      "Epoch 91/100\n",
      "13/13 [==============================] - 0s 2ms/step - loss: 2974.0854\n",
      "Epoch 92/100\n",
      "13/13 [==============================] - 0s 2ms/step - loss: 2975.0999\n",
      "Epoch 93/100\n",
      "13/13 [==============================] - 0s 2ms/step - loss: 2976.0491\n",
      "Epoch 94/100\n",
      "13/13 [==============================] - 0s 2ms/step - loss: 2972.8948\n",
      "Epoch 95/100\n",
      "13/13 [==============================] - 0s 2ms/step - loss: 2972.0398\n",
      "Epoch 96/100\n",
      "13/13 [==============================] - 0s 1ms/step - loss: 2972.0620\n",
      "Epoch 97/100\n",
      "13/13 [==============================] - 0s 1ms/step - loss: 2972.0652\n",
      "Epoch 98/100\n",
      "13/13 [==============================] - 0s 1ms/step - loss: 2970.9722\n",
      "Epoch 99/100\n",
      "13/13 [==============================] - 0s 1ms/step - loss: 2969.8035\n",
      "Epoch 100/100\n",
      "13/13 [==============================] - 0s 2ms/step - loss: 2969.7988\n",
      "MSE 1935.1015767230283\n",
      "MAE 35.20324681599935\n",
      "R2 0.6244132951251932\n"
     ]
    }
   ],
   "source": [
    "layer0 = tf.keras.layers.Dense(units=1,input_shape=[X_train.shape[1]])\n",
    "model = tf.keras.Sequential(layer0)\n",
    "model.compile(loss='mean_squared_error',optimizer=tf.keras.optimizers.Adam(1))\n",
    "model.fit(X_train, y_train, epochs=100, verbose=True)\n",
    "\n",
    "predictions = model.predict(X_test)[:, 0]\n",
    "regression_report(y_test,predictions)"
   ]
  },
  {
   "cell_type": "code",
   "execution_count": null,
   "metadata": {
    "colab": {
     "base_uri": "https://localhost:8080/"
    },
    "id": "-TVFZLwDwOfN",
    "outputId": "1a207f23-4073-41e6-a9a7-edc12ae3b305"
   },
   "outputs": [
    {
     "name": "stdout",
     "output_type": "stream",
     "text": [
      "MSE 27.478958579881663\n",
      "MAE 4.306153846153846\n",
      "R2 -1.5302675463284565\n"
     ]
    }
   ],
   "source": [
    "boston = datasets.load_boston()\n",
    "num_test = 10 # the last 10 samples as testing set\n",
    "X_train = boston.data[:-num_test, :]\n",
    "y_train = boston.target[:-num_test]\n",
    "X_test = boston.data[-num_test:, :]\n",
    "y_test = boston.target[-num_test:]\n",
    "\n",
    "regressor = DecisionTreeRegressor(max_depth=10,min_samples_split=3)\n",
    "regressor.fit(X_train, y_train)\n",
    "predictions = regressor.predict(X_test)\n",
    "regression_report(y_test,predictions)"
   ]
  },
  {
   "cell_type": "code",
   "execution_count": null,
   "metadata": {
    "colab": {
     "base_uri": "https://localhost:8080/"
    },
    "id": "vb-iAGUFEHk8",
    "outputId": "c7cd17db-e608-4b50-f351-4f83ffb25086"
   },
   "outputs": [
    {
     "name": "stdout",
     "output_type": "stream",
     "text": [
      "Epoch 1/50\n",
      "16/16 [==============================] - 0s 1ms/step - loss: 101495.2578\n",
      "Epoch 2/50\n",
      "16/16 [==============================] - 0s 1ms/step - loss: 14127.4639\n",
      "Epoch 3/50\n",
      "16/16 [==============================] - 0s 1ms/step - loss: 3432.9160\n",
      "Epoch 4/50\n",
      "16/16 [==============================] - 0s 996us/step - loss: 877.5418\n",
      "Epoch 5/50\n",
      "16/16 [==============================] - 0s 1ms/step - loss: 217.8984\n",
      "Epoch 6/50\n",
      "16/16 [==============================] - 0s 1ms/step - loss: 72.4553\n",
      "Epoch 7/50\n",
      "16/16 [==============================] - 0s 1ms/step - loss: 65.6624\n",
      "Epoch 8/50\n",
      "16/16 [==============================] - 0s 1ms/step - loss: 71.5349\n",
      "Epoch 9/50\n",
      "16/16 [==============================] - 0s 1ms/step - loss: 57.5364\n",
      "Epoch 10/50\n",
      "16/16 [==============================] - 0s 1ms/step - loss: 64.4025\n",
      "Epoch 11/50\n",
      "16/16 [==============================] - 0s 1ms/step - loss: 50.0992\n",
      "Epoch 12/50\n",
      "16/16 [==============================] - 0s 1ms/step - loss: 48.4999\n",
      "Epoch 13/50\n",
      "16/16 [==============================] - 0s 1ms/step - loss: 43.7240\n",
      "Epoch 14/50\n",
      "16/16 [==============================] - 0s 1ms/step - loss: 50.6591\n",
      "Epoch 15/50\n",
      "16/16 [==============================] - 0s 1ms/step - loss: 41.7710\n",
      "Epoch 16/50\n",
      "16/16 [==============================] - 0s 1ms/step - loss: 40.1124\n",
      "Epoch 17/50\n",
      "16/16 [==============================] - 0s 1ms/step - loss: 48.5614\n",
      "Epoch 18/50\n",
      "16/16 [==============================] - 0s 1ms/step - loss: 56.4318\n",
      "Epoch 19/50\n",
      "16/16 [==============================] - 0s 1ms/step - loss: 51.4741\n",
      "Epoch 20/50\n",
      "16/16 [==============================] - 0s 1ms/step - loss: 43.8469\n",
      "Epoch 21/50\n",
      "16/16 [==============================] - 0s 2ms/step - loss: 43.9247\n",
      "Epoch 22/50\n",
      "16/16 [==============================] - 0s 2ms/step - loss: 53.0516\n",
      "Epoch 23/50\n",
      "16/16 [==============================] - 0s 1ms/step - loss: 64.9680\n",
      "Epoch 24/50\n",
      "16/16 [==============================] - 0s 1ms/step - loss: 46.2008\n",
      "Epoch 25/50\n",
      "16/16 [==============================] - 0s 1ms/step - loss: 48.8733\n",
      "Epoch 26/50\n",
      "16/16 [==============================] - 0s 1ms/step - loss: 63.0503\n",
      "Epoch 27/50\n",
      "16/16 [==============================] - 0s 1ms/step - loss: 37.6646\n",
      "Epoch 28/50\n",
      "16/16 [==============================] - 0s 1ms/step - loss: 57.7531\n",
      "Epoch 29/50\n",
      "16/16 [==============================] - 0s 1ms/step - loss: 43.9632\n",
      "Epoch 30/50\n",
      "16/16 [==============================] - 0s 1ms/step - loss: 57.9664\n",
      "Epoch 31/50\n",
      "16/16 [==============================] - 0s 1ms/step - loss: 65.5818\n",
      "Epoch 32/50\n",
      "16/16 [==============================] - 0s 1ms/step - loss: 35.7666\n",
      "Epoch 33/50\n",
      "16/16 [==============================] - 0s 1ms/step - loss: 81.7973\n",
      "Epoch 34/50\n",
      "16/16 [==============================] - 0s 1ms/step - loss: 56.6786\n",
      "Epoch 35/50\n",
      "16/16 [==============================] - 0s 1ms/step - loss: 76.2682\n",
      "Epoch 36/50\n",
      "16/16 [==============================] - 0s 1ms/step - loss: 127.2475\n",
      "Epoch 37/50\n",
      "16/16 [==============================] - 0s 1ms/step - loss: 93.0932\n",
      "Epoch 38/50\n",
      "16/16 [==============================] - 0s 1ms/step - loss: 55.4243\n",
      "Epoch 39/50\n",
      "16/16 [==============================] - 0s 1ms/step - loss: 55.2670\n",
      "Epoch 40/50\n",
      "16/16 [==============================] - 0s 1ms/step - loss: 38.6833\n",
      "Epoch 41/50\n",
      "16/16 [==============================] - 0s 2ms/step - loss: 55.1273\n",
      "Epoch 42/50\n",
      "16/16 [==============================] - 0s 1ms/step - loss: 118.2979\n",
      "Epoch 43/50\n",
      "16/16 [==============================] - 0s 1ms/step - loss: 48.6794\n",
      "Epoch 44/50\n",
      "16/16 [==============================] - 0s 1ms/step - loss: 70.2058\n",
      "Epoch 45/50\n",
      "16/16 [==============================] - 0s 2ms/step - loss: 67.0239\n",
      "Epoch 46/50\n",
      "16/16 [==============================] - 0s 1ms/step - loss: 66.3656\n",
      "Epoch 47/50\n",
      "16/16 [==============================] - 0s 1ms/step - loss: 86.9678\n",
      "Epoch 48/50\n",
      "16/16 [==============================] - 0s 1ms/step - loss: 105.4152\n",
      "Epoch 49/50\n",
      "16/16 [==============================] - 0s 1ms/step - loss: 134.5209\n",
      "Epoch 50/50\n",
      "16/16 [==============================] - 0s 1ms/step - loss: 75.6737\n",
      "MSE 63.10391865644378\n",
      "MAE 7.078136024475097\n",
      "R2 -4.810620404641191\n"
     ]
    }
   ],
   "source": [
    "layer0 = tf.keras.layers.Dense(units=1,input_shape=[X_train.shape[1]])\n",
    "model = tf.keras.Sequential(layer0)\n",
    "model.compile(loss='mean_squared_error',optimizer=tf.keras.optimizers.Adam(1))\n",
    "model.fit(X_train, y_train, epochs=50, verbose=True)\n",
    "\n",
    "predictions = model.predict(X_test)[:, 0]\n",
    "regression_report(y_test,predictions)"
   ]
  },
  {
   "cell_type": "code",
   "execution_count": null,
   "metadata": {
    "colab": {
     "base_uri": "https://localhost:8080/"
    },
    "id": "fgZX6syYEjvf",
    "outputId": "3ca512ce-b9fe-4b1e-d1eb-0030cf682144"
   },
   "outputs": [
    {
     "name": "stdout",
     "output_type": "stream",
     "text": [
      "MSE 18.730876454555613\n",
      "MAE 3.5045612850870507\n",
      "R2 -0.7247425396226201\n"
     ]
    }
   ],
   "source": [
    "regressor = RandomForestRegressor(n_estimators=100,max_depth=10, min_samples_split=3)\n",
    "regressor.fit(X_train, y_train)\n",
    "predictions = regressor.predict(X_test)\n",
    "predictions = regressor.predict(X_test)\n",
    "regression_report(y_test,predictions)"
   ]
  },
  {
   "cell_type": "code",
   "execution_count": null,
   "metadata": {
    "colab": {
     "base_uri": "https://localhost:8080/"
    },
    "id": "japrJPmgF-1y",
    "outputId": "ba864b2b-b2bb-4461-c864-36a849e698cd"
   },
   "outputs": [
    {
     "name": "stdout",
     "output_type": "stream",
     "text": [
      "MSE 18.56650427030082\n",
      "MAE 3.16234936758553\n",
      "R2 -0.7096071187466801\n"
     ]
    }
   ],
   "source": [
    "regressor = SVR(C=0.1, epsilon=0.02, kernel='linear')\n",
    "regressor.fit(X_train, y_train)\n",
    "predictions = regressor.predict(X_test)\n",
    "regression_report(y_test,predictions)"
   ]
  }
 ],
 "metadata": {
  "colab": {
   "name": "Classic vs ANN Regression.ipynb",
   "provenance": []
  },
  "kernelspec": {
   "display_name": "Python 3",
   "language": "python",
   "name": "python3"
  },
  "language_info": {
   "codemirror_mode": {
    "name": "ipython",
    "version": 3
   },
   "file_extension": ".py",
   "mimetype": "text/x-python",
   "name": "python",
   "nbconvert_exporter": "python",
   "pygments_lexer": "ipython3",
   "version": "3.8.10"
  }
 },
 "nbformat": 4,
 "nbformat_minor": 4
}
